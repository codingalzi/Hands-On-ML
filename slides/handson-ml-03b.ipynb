{
 "cells": [
  {
   "cell_type": "markdown",
   "metadata": {
    "slideshow": {
     "slide_type": "slide"
    }
   },
   "source": [
    "# 3장 분류 (2부)"
   ]
  },
  {
   "cell_type": "markdown",
   "metadata": {
    "slideshow": {
     "slide_type": "slide"
    }
   },
   "source": [
    "#### 감사의 글\n",
    "\n",
    "자료를 공개한 저자 오렐리앙 제롱과 강의자료를 지원한 한빛아카데미에게 진심어린 감사를 전합니다."
   ]
  },
  {
   "cell_type": "markdown",
   "metadata": {
    "colab_type": "text",
    "id": "_6ptLsZo9knQ",
    "slideshow": {
     "slide_type": "slide"
    }
   },
   "source": [
    "## 주요 내용"
   ]
  },
  {
   "cell_type": "markdown",
   "metadata": {
    "colab_type": "text",
    "id": "_6ptLsZo9knQ",
    "slideshow": {
     "slide_type": ""
    }
   },
   "source": [
    "* 다중 클래스 분류"
   ]
  },
  {
   "cell_type": "markdown",
   "metadata": {
    "colab_type": "text",
    "id": "_6ptLsZo9knQ",
    "slideshow": {
     "slide_type": ""
    }
   },
   "source": [
    "* 에러 분석"
   ]
  },
  {
   "cell_type": "markdown",
   "metadata": {
    "colab_type": "text",
    "id": "_6ptLsZo9knQ",
    "slideshow": {
     "slide_type": ""
    }
   },
   "source": [
    "* 다중 레이블 분류"
   ]
  },
  {
   "cell_type": "markdown",
   "metadata": {
    "colab_type": "text",
    "id": "_6ptLsZo9knQ",
    "slideshow": {
     "slide_type": ""
    }
   },
   "source": [
    "* 다중 출력 분류"
   ]
  },
  {
   "cell_type": "markdown",
   "metadata": {
    "colab_type": "text",
    "id": "dBV19Og0V81i",
    "slideshow": {
     "slide_type": "slide"
    }
   },
   "source": [
    "## 3.4 다중 클래스 분류"
   ]
  },
  {
   "cell_type": "markdown",
   "metadata": {
    "colab_type": "text",
    "id": "dBV19Og0V81i",
    "slideshow": {
     "slide_type": "slide"
    }
   },
   "source": [
    "### 다중 클래스 분류기(multiclass classifier)"
   ]
  },
  {
   "cell_type": "markdown",
   "metadata": {
    "colab_type": "text",
    "id": "dBV19Og0V81i",
    "slideshow": {
     "slide_type": ""
    }
   },
   "source": [
    "* 세 개 이상의 클래스로 샘플을 분류하는 예측기"
   ]
  },
  {
   "cell_type": "markdown",
   "metadata": {
    "colab_type": "text",
    "id": "dBV19Og0V81i",
    "slideshow": {
     "slide_type": ""
    }
   },
   "source": [
    "* 다항 분류기(multinomial classifier)라고도 부름"
   ]
  },
  {
   "cell_type": "markdown",
   "metadata": {
    "colab_type": "text",
    "id": "dBV19Og0V81i",
    "slideshow": {
     "slide_type": ""
    }
   },
   "source": [
    "* 예를 들어, 손글씨 숫자 분류의 경우 0부터 9까지 10개의 클래스로 분류해야 함"
   ]
  },
  {
   "cell_type": "markdown",
   "metadata": {
    "colab_type": "text",
    "id": "dBV19Og0V81i",
    "slideshow": {
     "slide_type": "slide"
    }
   },
   "source": [
    "#### 다중 클래스 분류 지원 분류기\n",
    "\n",
    "* SGD 분류기\n",
    "* 랜덤 포레스트 분류기\n",
    "* 나이브 베이즈(naive Bayes) 분류기"
   ]
  },
  {
   "cell_type": "markdown",
   "metadata": {
    "colab_type": "text",
    "id": "dBV19Og0V81i",
    "slideshow": {
     "slide_type": ""
    }
   },
   "source": [
    "#### 이진 분류만 지원하는 분류기\n",
    "\n",
    "* 로지스틱 회귀\n",
    "* 서포트 벡터 머신\n",
    "    * 사이킷런의 `SVC()` 모델은 다중 클래스 분류도 특별한 기법을 적용하여 지원함."
   ]
  },
  {
   "cell_type": "markdown",
   "metadata": {
    "slideshow": {
     "slide_type": "slide"
    }
   },
   "source": [
    "### 이진 분류기 활용"
   ]
  },
  {
   "cell_type": "markdown",
   "metadata": {
    "slideshow": {
     "slide_type": ""
    }
   },
   "source": [
    "* 이진 분류기를 활용하여 다중 클래스 분류 가능\n",
    "    * 일대다(OvR 또는 OvA)\n",
    "    * 일대일(OvO)"
   ]
  },
  {
   "cell_type": "markdown",
   "metadata": {
    "colab_type": "text",
    "id": "9CDar7P2XEs6",
    "slideshow": {
     "slide_type": "slide"
    }
   },
   "source": [
    "* 일대다 방식 활용 예제\n",
    "    * 숫자 5 예측하기에서 사용했던 이진 분류 방식을 동일하게 모든 숫자에 대해서 실행\n",
    "    * 각 샘플에 대해 총 10번 각기 다른 이진 분류기를 실행\n",
    "    * 이후 각 분류기의 결정 점수 중에서 가장 높은 점수를 받은 클래스를 해당 샘플의 클래스로 선택"
   ]
  },
  {
   "cell_type": "markdown",
   "metadata": {
    "colab_type": "text",
    "id": "T2PfXBQhXZ5O",
    "slideshow": {
     "slide_type": "slide"
    }
   },
   "source": [
    "* 일대일 방식 활용 예제\n",
    "    * 조합 가능한 모든 클래스 일대일 분류 방식을 진행하여 가장 많은 결투(duell)를 이긴 숫자를 선택\n",
    "    * MNIST의 경우, 0과 1 구별, 0과 2 구별, ..., 1과 2 구별, 1과 3 구별, ..., 8과 9 구별 등 \n",
    "        (9+8+...+1 = 45)개의 결투를 판별하는 45개의 분류기 활용.\n",
    "        단, 각 결투에 해당되는 데이터 샘플만 훈련에 사용됨.\n",
    "    * 각각의 훈련 샘플에 대해 가장 많은 결투를 이긴 숫자의 클래스를 예측값으로 사용함.\n",
    "        예를 들어, 숫자 1이 9번의 결투를 모두 이기면 숫자 1을 예측값으로 지정함."
   ]
  },
  {
   "cell_type": "markdown",
   "metadata": {
    "colab_type": "text",
    "id": "5c0kfA86YITr",
    "slideshow": {
     "slide_type": "slide"
    }
   },
   "source": [
    "#### 예제: 서포트 벡터 머신"
   ]
  },
  {
   "cell_type": "markdown",
   "metadata": {
    "colab_type": "text",
    "id": "5c0kfA86YITr",
    "slideshow": {
     "slide_type": ""
    }
   },
   "source": [
    "* 훈련 세트의 크기에 민감하여 작은 훈련 세트에서 많은 분류기를 훈련시키는 쪽이 훨씬 빠름. \n",
    "    따라서 다중 클래스 분류에 일대일 전략을 사용함."
   ]
  },
  {
   "cell_type": "markdown",
   "metadata": {
    "colab_type": "text",
    "id": "5c0kfA86YITr",
    "slideshow": {
     "slide_type": ""
    }
   },
   "source": [
    "* 대부분의 이진 분류기는 일대다 전략을 선호"
   ]
  },
  {
   "cell_type": "markdown",
   "metadata": {
    "colab_type": "text",
    "id": "duhbLw7saEf5",
    "slideshow": {
     "slide_type": "slide"
    }
   },
   "source": [
    "#### 일대일 또는 일대다 전략 선택"
   ]
  },
  {
   "cell_type": "markdown",
   "metadata": {
    "colab_type": "text",
    "id": "duhbLw7saEf5",
    "slideshow": {
     "slide_type": ""
    }
   },
   "source": [
    "* 이진 분류기를 일대일 전략 또는 일대다 전략으로 지정해서 학습하도록 만들 수 있음."
   ]
  },
  {
   "cell_type": "markdown",
   "metadata": {
    "colab_type": "text",
    "id": "duhbLw7saEf5",
    "slideshow": {
     "slide_type": ""
    }
   },
   "source": [
    "* 사이킷런의 경우: `OneVsOneClassifier` 또는 `OneVsRestClassifier` 사용"
   ]
  },
  {
   "cell_type": "markdown",
   "metadata": {},
   "source": [
    "* 예를 들어, SVC 모델을 일대다 전략으로 훈련시키려면 `OneVsRestClassifier` 활용\n",
    "\n",
    "    ```python\n",
    "    from sklearn.multiclass import OneVsRestClassifier\n",
    "    ovr_clf = OneVsRestClassifier(SVC())\n",
    "    ovr_clf.fi(X_train, y_train)\n",
    "    ```"
   ]
  },
  {
   "cell_type": "markdown",
   "metadata": {
    "colab_type": "text",
    "id": "WSTDISA7bGX_",
    "slideshow": {
     "slide_type": "slide"
    }
   },
   "source": [
    "#### 다중 클래스 지원 분류기"
   ]
  },
  {
   "cell_type": "markdown",
   "metadata": {
    "colab_type": "text",
    "id": "WSTDISA7bGX_",
    "slideshow": {
     "slide_type": ""
    }
   },
   "source": [
    "* `SGDClassifier` 또는 `RandomForestClassifier`는 다중 클래스 분류를 직접 지원함."
   ]
  },
  {
   "cell_type": "markdown",
   "metadata": {
    "colab_type": "text",
    "id": "WSTDISA7bGX_",
    "slideshow": {
     "slide_type": ""
    }
   },
   "source": [
    "* 따라서 사이킷런의 OvR, OvO 등을 적용할 필요 없음"
   ]
  },
  {
   "cell_type": "markdown",
   "metadata": {
    "colab_type": "text",
    "id": "YdS9bBCvfuRC",
    "slideshow": {
     "slide_type": "slide"
    }
   },
   "source": [
    "#### 다중 클래스 분류기 성능 측정"
   ]
  },
  {
   "cell_type": "markdown",
   "metadata": {
    "colab_type": "text",
    "id": "YdS9bBCvfuRC",
    "slideshow": {
     "slide_type": ""
    }
   },
   "source": [
    "* 다중 클래스 분류기의 성능 평가는 교차검증을 이용하여 정확도를 측정"
   ]
  },
  {
   "cell_type": "markdown",
   "metadata": {
    "colab_type": "text",
    "id": "YdS9bBCvfuRC",
    "slideshow": {
     "slide_type": ""
    }
   },
   "source": [
    "* MNIST의 경우 0부터 9까지 숫자가 균형 있게 분포되어 있어서 데이터 불균형의 문제가 발생하지 않음."
   ]
  },
  {
   "cell_type": "markdown",
   "metadata": {
    "colab_type": "text",
    "id": "1gLSYZqWgxyu",
    "slideshow": {
     "slide_type": "slide"
    }
   },
   "source": [
    "## 3.5 에러 분석"
   ]
  },
  {
   "cell_type": "markdown",
   "metadata": {
    "slideshow": {
     "slide_type": ""
    }
   },
   "source": [
    "가능성이 높은 모델을 하나 찾았을 때 에러 분석을 통해 모델의 성능을 향상시킬 방법을 찾아볼 수 있음."
   ]
  },
  {
   "cell_type": "markdown",
   "metadata": {
    "slideshow": {
     "slide_type": "slide"
    }
   },
   "source": [
    "### 오차 행렬 활용"
   ]
  },
  {
   "cell_type": "markdown",
   "metadata": {
    "slideshow": {
     "slide_type": ""
    }
   },
   "source": [
    "* 손글씨 클래스 분류 모델의 오차 행렬을 이미지로 표현 가능\n",
    "* 대체로 잘 분류됨: 대각선이 밝음.\n",
    "* 5행은 좀 어두움. 숫자 5의 분류 정확도가 상대적으로 낮음"
   ]
  },
  {
   "cell_type": "markdown",
   "metadata": {
    "slideshow": {
     "slide_type": ""
    }
   },
   "source": [
    "#### <div align=\"center\"><img src=\"images/ch03/homl03-08.png\" width=\"400\"/></div>"
   ]
  },
  {
   "cell_type": "markdown",
   "metadata": {
    "slideshow": {
     "slide_type": "slide"
    }
   },
   "source": [
    "#### 오차율 이미지\n",
    "* 8행이 전반적으로 어두움. \n",
    "    * 8은 잘 분류되었다는 의미임.\n",
    "* (3, 5)와 (5,3)의 위치가 상대적으로 밝음.\n",
    "    * 3과 5가 서로 많이 혼동됨."
   ]
  },
  {
   "cell_type": "markdown",
   "metadata": {
    "slideshow": {
     "slide_type": ""
    }
   },
   "source": [
    "#### <div align=\"center\"><img src=\"images/ch03/homl03-09.png\" width=\"400\"/></div>"
   ]
  },
  {
   "cell_type": "markdown",
   "metadata": {
    "slideshow": {
     "slide_type": "slide"
    }
   },
   "source": [
    "* 3과 5의 오차행렬 그려보기\n",
    "    * 음성: 3으로 판정\n",
    "    * 양성: 5로 판정"
   ]
  },
  {
   "cell_type": "markdown",
   "metadata": {
    "slideshow": {
     "slide_type": ""
    }
   },
   "source": [
    "<div align=\"center\"><img src=\"images/ch03/homl03-10.png\" width=\"400\"/></div>"
   ]
  },
  {
   "cell_type": "markdown",
   "metadata": {
    "slideshow": {
     "slide_type": "slide"
    }
   },
   "source": [
    "* 3과 5의 구분이 어려운 이유\n",
    "    * 선형 모델인 SGD 분류기를 사용했기 때문\n",
    "    * SGD 모델은 단순히 픽셀 강도에만 의존함."
   ]
  },
  {
   "cell_type": "markdown",
   "metadata": {
    "slideshow": {
     "slide_type": ""
    }
   },
   "source": [
    "* 이미지 분류기의 한계\n",
    "    * 이미지의 위치나 회전 방향에 민감함\n",
    "    * 이미지를 중앙에 위치시키고 회전되지 않도록 전처리하거나, 8은 동그라미가 두 개 있다는 등\n",
    "        각 숫자의 특성을 추가하면 더 좋은 성능의 모델 구현 가능함."
   ]
  },
  {
   "cell_type": "markdown",
   "metadata": {
    "colab_type": "text",
    "id": "iLrym21JhMm7",
    "slideshow": {
     "slide_type": "slide"
    }
   },
   "source": [
    "## 3.6 다중 레이블 분류"
   ]
  },
  {
   "cell_type": "markdown",
   "metadata": {
    "slideshow": {
     "slide_type": ""
    }
   },
   "source": [
    "* 샘플마다 여러 개의 클래스 출력"
   ]
  },
  {
   "cell_type": "markdown",
   "metadata": {
    "slideshow": {
     "slide_type": ""
    }
   },
   "source": [
    "* 예제: 얼굴 인식 분류기\n",
    "    * 한 사진에 여러 사람이 포함된 경우, 인식된 사람마다 하나씩 꼬리표(tag)를 붙여야 함. \n",
    "    * 앨리스, 밥, 찰리의 포함여부를 확인 할 때: 밥이 없는 경우 `[True, False, True]` 출력"
   ]
  },
  {
   "cell_type": "markdown",
   "metadata": {
    "slideshow": {
     "slide_type": ""
    }
   },
   "source": [
    "* 예제: 숫자 분류\n",
    "    * 7 이상인지 여부와 함께 홀수 여부도 동시 출력\n",
    "    * 5가 입력될 때: `[False, True]` 출력"
   ]
  },
  {
   "cell_type": "markdown",
   "metadata": {
    "slideshow": {
     "slide_type": "slide"
    }
   },
   "source": [
    "### 다중 레이블 분류 지원 모델"
   ]
  },
  {
   "cell_type": "markdown",
   "metadata": {
    "slideshow": {
     "slide_type": ""
    }
   },
   "source": [
    "* k-최근접 이웃 분류기\n",
    "    * 사이킷런의 `KNeighborsClassifier` 모델"
   ]
  },
  {
   "cell_type": "markdown",
   "metadata": {
    "slideshow": {
     "slide_type": ""
    }
   },
   "source": [
    "* 다중 레이블 분류기를 평가하는 방법은 다양함\n",
    "    * 각 레이블의 F1 점수를 구하고 레이블에 대한 가중치를 적용한 평균 점수 계산\n",
    "    * 가중치 예제: 타깃 레이블에 속한 샘플 수를 가중치"
   ]
  },
  {
   "cell_type": "markdown",
   "metadata": {
    "colab_type": "text",
    "id": "O24fcDgXiIdh",
    "slideshow": {
     "slide_type": "slide"
    }
   },
   "source": [
    "## 3.7 다중 출력 분류"
   ]
  },
  {
   "cell_type": "markdown",
   "metadata": {
    "slideshow": {
     "slide_type": ""
    }
   },
   "source": [
    "* 다중 출력 다중 클래스 분류라고도 불림"
   ]
  },
  {
   "cell_type": "markdown",
   "metadata": {
    "slideshow": {
     "slide_type": ""
    }
   },
   "source": [
    "* 다중 레이블 분류에서 한 레이블이 이진 클래스가 아닌 다중 클래스를 대상으로 예측하는 분류"
   ]
  },
  {
   "cell_type": "markdown",
   "metadata": {
    "slideshow": {
     "slide_type": ""
    }
   },
   "source": [
    "* 다중 레이블 분류기 지원 모델: k-최근접 이웃 분류기\n",
    "    * 사이킷런의 `KNeighborsClassifier` 모델"
   ]
  },
  {
   "cell_type": "markdown",
   "metadata": {
    "slideshow": {
     "slide_type": "slide"
    }
   },
   "source": [
    "* 예제: 이미지에서 잡음을 제거하는 시스템\n",
    "    * 다중 레이블: 각각의 픽셀이 레이블 역할 수행\n",
    "    * 다중 클래스: 레이블이 0부터 255까지 픽셀 강도를 가짐."
   ]
  },
  {
   "cell_type": "markdown",
   "metadata": {
    "slideshow": {
     "slide_type": "slide"
    }
   },
   "source": [
    "<div align=\"center\"><img src=\"images/ch03/homl03-11.png\" width=\"500\"/></div>"
   ]
  },
  {
   "cell_type": "markdown",
   "metadata": {
    "slideshow": {
     "slide_type": "slide"
    }
   },
   "source": [
    "* 아래 사진: 분류기가 예측한 이미지"
   ]
  },
  {
   "cell_type": "markdown",
   "metadata": {
    "slideshow": {
     "slide_type": ""
    }
   },
   "source": [
    "<div align=\"center\"><img src=\"images/ch03/homl03-12.png\" width=\"170\"/></div>"
   ]
  }
 ],
 "metadata": {
  "celltoolbar": "Slideshow",
  "colab": {
   "collapsed_sections": [],
   "name": "핸즈온머신러닝_3장.ipynb",
   "provenance": []
  },
  "kernelspec": {
   "display_name": "Python 3",
   "language": "python",
   "name": "python3"
  },
  "language_info": {
   "codemirror_mode": {
    "name": "ipython",
    "version": 3
   },
   "file_extension": ".py",
   "mimetype": "text/x-python",
   "name": "python",
   "nbconvert_exporter": "python",
   "pygments_lexer": "ipython3",
   "version": "3.8.5"
  }
 },
 "nbformat": 4,
 "nbformat_minor": 1
}
